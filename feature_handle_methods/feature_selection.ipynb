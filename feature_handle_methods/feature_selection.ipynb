{
 "cells": [
  {
   "cell_type": "markdown",
   "metadata": {},
   "source": [
    "特征筛选，寻找那些对模型提升较大的少量特征\n",
    "这里使用Titanic数据集，通过特征筛选的方法一步步提升决策树的预测表现"
   ]
  },
  {
   "cell_type": "code",
   "execution_count": 2,
   "metadata": {},
   "outputs": [],
   "source": [
    "import pandas as pd \n",
    "titanic=pd.read_csv(\"http://biostat.mc.vanderbilt.edu/wiki/pub/Main/DataSets/titanic.txt\")"
   ]
  },
  {
   "cell_type": "code",
   "execution_count": 3,
   "metadata": {},
   "outputs": [],
   "source": [
    "y=titanic['survived']\n",
    "X=titanic.drop(['row.names','name','survived'],axis=1)"
   ]
  },
  {
   "cell_type": "code",
   "execution_count": 4,
   "metadata": {},
   "outputs": [],
   "source": [
    "#补全缺失数据\n",
    "X['age'].fillna(X['age'].mean(),inplace=True)\n",
    "X.fillna('UNKNOWN',inplace=True)"
   ]
  },
  {
   "cell_type": "code",
   "execution_count": 5,
   "metadata": {},
   "outputs": [
    {
     "name": "stdout",
     "output_type": "stream",
     "text": [
      "     pclass        age     embarked                      home.dest     room  \\\n",
      "1086    3rd  31.194181      UNKNOWN                        UNKNOWN  UNKNOWN   \n",
      "12      1st  31.194181    Cherbourg                  Paris, France     B-35   \n",
      "1036    3rd  31.194181      UNKNOWN                        UNKNOWN  UNKNOWN   \n",
      "833     3rd  32.000000  Southampton  Foresvik, Norway Portland, ND  UNKNOWN   \n",
      "1108    3rd  31.194181      UNKNOWN                        UNKNOWN  UNKNOWN   \n",
      "\n",
      "            ticket     boat     sex  \n",
      "1086       UNKNOWN  UNKNOWN    male  \n",
      "12    17477 L69 6s        9  female  \n",
      "1036       UNKNOWN  UNKNOWN    male  \n",
      "833        UNKNOWN  UNKNOWN    male  \n",
      "1108       UNKNOWN  UNKNOWN    male  \n"
     ]
    }
   ],
   "source": [
    "from sklearn.model_selection import train_test_split\n",
    "X_train,X_test,y_train,y_test=train_test_split(X,y,test_size=0.25,random_state=33)\n",
    "print(X_train.head())"
   ]
  },
  {
   "cell_type": "code",
   "execution_count": 6,
   "metadata": {},
   "outputs": [
    {
     "name": "stdout",
     "output_type": "stream",
     "text": [
      "474\n"
     ]
    }
   ],
   "source": [
    "#类别特征向量化\n",
    "from sklearn.feature_extraction import DictVectorizer\n",
    "vec=DictVectorizer()\n",
    "X_train=vec.fit_transform(X_train.to_dict(orient='record'))\n",
    "X_test=vec.transform(X_test.to_dict(orient='record'))\n",
    "print(len(vec.feature_names_))"
   ]
  },
  {
   "cell_type": "code",
   "execution_count": 7,
   "metadata": {},
   "outputs": [
    {
     "name": "stdout",
     "output_type": "stream",
     "text": [
      "the performance is : 0.8480243161094225\n"
     ]
    }
   ],
   "source": [
    "#使用所有的特征进行预测，并且做性能评估\n",
    "from sklearn.tree import DecisionTreeClassifier\n",
    "dt=DecisionTreeClassifier()\n",
    "dt.fit(X_train,y_train)\n",
    "print(\"the performance is :\",dt.score(X_test,y_test))"
   ]
  },
  {
   "cell_type": "markdown",
   "metadata": {},
   "source": [
    "#导入特征筛选器"
   ]
  },
  {
   "cell_type": "code",
   "execution_count": 10,
   "metadata": {},
   "outputs": [
    {
     "data": {
      "text/plain": [
       "0.817629179331307"
      ]
     },
     "execution_count": 10,
     "metadata": {},
     "output_type": "execute_result"
    }
   ],
   "source": [
    "from sklearn import feature_selection\n",
    "#筛选前20%的特征，使用相同的模型进行训练\n",
    "\n",
    "fs=feature_selection.SelectPercentile(feature_selection.chi2,percentile=20)\n",
    "X_train_fs=fs.fit_transform(X_train,y_train)\n",
    "dt.fit(X_train_fs,y_train)\n",
    "X_test_fs=fs.transform(X_test)\n",
    "dt.score(X_test_fs,y_test)"
   ]
  },
  {
   "cell_type": "code",
   "execution_count": 17,
   "metadata": {},
   "outputs": [
    {
     "name": "stdout",
     "output_type": "stream",
     "text": [
      "50\n",
      "[0.85063904 0.85673057 0.87501546 0.88622964 0.87105751 0.87816945\n",
      " 0.87409812 0.87612863 0.87102659 0.87508761 0.87205731 0.87308802\n",
      " 0.87408782 0.87000618 0.86495568 0.87304679 0.86797568 0.86795506\n",
      " 0.86696557 0.86493506 0.86695527 0.872047   0.87102659 0.87713873\n",
      " 0.86390435 0.87202639 0.86898578 0.87200577 0.86998557 0.87100598\n",
      " 0.86896516 0.87202639 0.87914863 0.86997526 0.87402597 0.87505669\n",
      " 0.87403628 0.87710781 0.87301587 0.87202639 0.8740672  0.86490414\n",
      " 0.86897547 0.87202639 0.86899608 0.86591424 0.86491445 0.86388374\n",
      " 0.86896516 0.86692435]\n",
      "<class 'int'>\n",
      "optimal number of features: 7\n"
     ]
    }
   ],
   "source": [
    "#通过交叉验证的方法，按照固定间隔的百分比筛选特征，并且作图 展示性能随特征筛选比例的变化\n",
    "from sklearn.model_selection import cross_val_score\n",
    "import numpy as np\n",
    "percentiles=range(1,100,2)\n",
    "print(len(percentiles))\n",
    "results=[]\n",
    "for i in percentiles:\n",
    "    fs=feature_selection.SelectPercentile(feature_selection.chi2,percentile=i)\n",
    "    X_train_fs=fs.fit_transform(X_train,y_train)\n",
    "    scores=cross_val_score(dt,X_train_fs,y_train,cv=5)\n",
    "    results=np.append(results,scores.mean())\n",
    "print(results)\n",
    "\n",
    "#找到体现最佳性能的特征筛选的百分比\n",
    "opt=int(np.where(results==results.max())[0])\n",
    "print(type(opt))\n",
    "print('optimal number of features:',percentiles[opt])"
   ]
  },
  {
   "cell_type": "code",
   "execution_count": 19,
   "metadata": {},
   "outputs": [
    {
     "data": {
      "image/png": "[encoded data removed]",
      "text/plain": [
       "<Figure size 432x288 with 1 Axes>"
      ]
     },
     "metadata": {
      "needs_background": "light"
     },
     "output_type": "display_data"
    }
   ],
   "source": [
    "%matplotlib inline    #加了这一行才会显示图片\n",
    "import pylab as pl\n",
    "pl.plot(percentiles,results)\n",
    "pl.xlabel('percentiles of features')\n",
    "pl.ylabel('accuracy')\n",
    "pl.show()"
   ]
  },
  {
   "cell_type": "code",
   "execution_count": 22,
   "metadata": {},
   "outputs": [
    {
     "name": "stdout",
     "output_type": "stream",
     "text": [
      "the performance is: 0.8601823708206687\n"
     ]
    }
   ],
   "source": [
    "#根据最佳筛选后的特征训练\n",
    "from sklearn import feature_selection\n",
    "fs=feature_selection.SelectPercentile(feature_selection.chi2,percentile=7)\n",
    "X_train_fs=fs.fit_transform(X_train,y_train)\n",
    "X_test_fs=fs.transform(X_test)\n",
    "dt.fit(X_train_fs,y_train)\n",
    "print(\"the performance is:\",dt.score(X_test_fs,y_test))"
   ]
  },
  {
   "cell_type": "markdown",
   "metadata": {},
   "source": [
    "sklearn中的特征筛选\n"
   ]
  }
 ],
 "metadata": {
  "kernelspec": {
   "display_name": "Python 3",
   "language": "python",
   "name": "python3"
  },
  "language_info": {
   "codemirror_mode": {
    "name": "ipython",
    "version": 3
   },
   "file_extension": ".py",
   "mimetype": "text/x-python",
   "name": "python",
   "nbconvert_exporter": "python",
   "pygments_lexer": "ipython3",
   "version": "3.7.3"
  }
 },
 "nbformat": 4,
 "nbformat_minor": 2
}
